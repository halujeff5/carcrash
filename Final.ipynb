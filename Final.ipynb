{
 "cells": [
  {
   "cell_type": "markdown",
   "metadata": {},
   "source": [
    "# Project Overview \n",
    "\n",
    "To provide safety driving guidelines based off Crash Data\n",
    "\n",
    "Identify high risk age groups\n",
    "\n",
    "To detect patterns in Crash Data that lead to accidents"
   ]
  },
  {
   "cell_type": "markdown",
   "metadata": {},
   "source": [
    "## The area's in which I look to address are:"
   ]
  },
  {
   "cell_type": "markdown",
   "metadata": {},
   "source": [
    "How can this be used in the outside world?\n",
    "\n",
    "What features did I use?\n",
    "\n",
    "What did the visualizations tell about my data?\n",
    "\n",
    "What does the statistical techniques conclude about my data?\n",
    "\n",
    "What model was best fit?"
   ]
  },
  {
   "cell_type": "markdown",
   "metadata": {},
   "source": [
    "## Gathered Data \n",
    "Gathered Traffic Crashes dataset from Chicago data portal\n"
   ]
  },
  {
   "cell_type": "markdown",
   "metadata": {},
   "source": [
    "# Importing libraries"
   ]
  },
  {
   "cell_type": "code",
   "execution_count": 1,
   "metadata": {},
   "outputs": [
    {
     "name": "stderr",
     "output_type": "stream",
     "text": [
      "/Users/jdanielkim123/opt/anaconda3/envs/learn-env/lib/python3.6/site-packages/sklearn/externals/six.py:31: DeprecationWarning: The module is deprecated in version 0.21 and will be removed in version 0.23 since we've dropped support for Python 2.7. Please rely on the official version of six (https://pypi.org/project/six/).\n",
      "  \"(https://pypi.org/project/six/).\", DeprecationWarning)\n"
     ]
    }
   ],
   "source": [
    "import pandas as pd\n",
    "import sqlite3 \n",
    "import matplotlib.pyplot as plt\n",
    "import numpy as np\n",
    "from sklearn.preprocessing import StandardScaler\n",
    "from sklearn.preprocessing import MinMaxScaler\n",
    "from sklearn.metrics import accuracy_score, f1_score, recall_score\n",
    "from imblearn.over_sampling import SMOTE\n",
    "from imblearn.under_sampling import TomekLinks\n",
    "from sklearn.neighbors import KNeighborsClassifier\n",
    "from sklearn.tree import DecisionTreeClassifier \n",
    "from sklearn.model_selection import train_test_split \n",
    "from sklearn.metrics import make_scorer, accuracy_score \n",
    "from matplotlib import pyplot as plt\n",
    "from matplotlib import pyplot as plt\n",
    "from sklearn.model_selection import cross_val_score\n",
    "import seaborn as sns \n",
    "from sklearn.model_selection import train_test_split \n",
    "from sklearn.feature_selection import RFE\n",
    "from sklearn.model_selection import KFold \n",
    "from sklearn.ensemble import RandomForestClassifier\n",
    "from sklearn.model_selection import cross_val_score\n",
    "from sklearn.metrics import classification_report\n",
    "from sklearn.metrics import confusion_matrix\n",
    "from sklearn.feature_selection import SelectFromModel\n",
    "from sklearn import metrics \n",
    "from sklearn.utils import resample\n",
    "from IPython.core.interactiveshell import InteractiveShell\n",
    "from sklearn.model_selection import GridSearchCV\n",
    "InteractiveShell.ast_node_interactivity = \"all\"\n",
    "pd.set_option('display.max_rows', 200)\n",
    "from sklearn import metrics\n",
    "%matplotlib inline"
   ]
  },
  {
   "cell_type": "code",
   "execution_count": null,
   "metadata": {},
   "outputs": [],
   "source": [
    "#Loading and concating data\n",
    "people = pd.read_csv('Traffic_Crashes_-_People.csv')\n",
    "df = pd.read_csv('Traffic_Crashes_-_Crashes.csv')\n",
    "result=pd.merge(people, df, on=['CRASH_RECORD_ID'], how = 'inner')"
   ]
  },
  {
   "cell_type": "code",
   "execution_count": null,
   "metadata": {},
   "outputs": [],
   "source": [
    "#Initial cleaning\n",
    "result.drop_duplicates(subset='CRASH_RECORD_ID', inplace=True)\n",
    "A = ['REPORT_TYPE','INJURIES_TOTAL','RD_NO_y','CRASH_DATE_x','PERSON_ID','LOCATION','RD_NO_x','VEHICLE_ID','CITY','STATE','DRIVERS_LICENSE_STATE','SEAT_NO','DRIVERS_LICENSE_CLASS','HOSPITAL','EMS_AGENCY','EMS_RUN_NO','PEDPEDAL_ACTION','PEDPEDAL_VISIBILITY','PEDPEDAL_LOCATION','CELL_PHONE_USE','CRASH_DATE_EST_I','LANE_CNT','INTERSECTION_RELATED_I','NOT_RIGHT_OF_WAY_I','BAC_RESULT VALUE','HIT_AND_RUN_I','PHOTOS_TAKEN_I','STATEMENTS_TAKEN_I','DOORING_I','WORK_ZONE_I','WORK_ZONE_TYPE', 'WORKERS_PRESENT_I']     \n",
    "result.drop(A,axis=1,inplace=True)\n",
    "result.AGE.fillna(36,inplace=True)\n",
    "result.SEX.fillna('U',inplace=True)\n",
    "result['SEX'] =np.where(result['SEX']== 'U','M',result['SEX'])\n",
    "result['SEX'] =np.where(result['SEX']== 'X','F',result['SEX'])\n",
    "B = ['LATITUDE','LONGITUDE','MOST_SEVERE_INJURY',\n",
    " 'INJURIES_FATAL',\n",
    " 'INJURIES_INCAPACITATING',\n",
    " 'INJURIES_NON_INCAPACITATING',\n",
    " 'INJURIES_REPORTED_NOT_EVIDENT',\n",
    " 'INJURIES_NO_INDICATION',\n",
    " 'INJURIES_UNKNOWN', 'BEAT_OF_OCCURRENCE', 'NUM_UNITS', 'STREET_NO',\n",
    " 'STREET_DIRECTION',\n",
    " 'STREET_NAME', 'DATE_POLICE_NOTIFIED', 'CRASH_DATE_y']\n",
    "result.drop(B,axis=1,inplace=True)\n",
    "result.dropna(axis=0, inplace=True)\n",
    "result['AGE']=result['AGE'].map(lambda x: int(x))\n",
    "result['AGE']=result['AGE'].map(lambda x: str(x))\n",
    "result['AGE']=result['AGE'].map(lambda x: x.replace('-49','49'))\n",
    "result['AGE']=result['AGE'].map(lambda x: int(x))\n",
    "result.drop(['CRASH_RECORD_ID'],axis=1,inplace=True)\n",
    "result.drop(['ZIPCODE','ALIGNMENT'],axis=1,inplace=True)"
   ]
  },
  {
   "cell_type": "markdown",
   "metadata": {},
   "source": [
    "# EDA"
   ]
  },
  {
   "cell_type": "code",
   "execution_count": null,
   "metadata": {},
   "outputs": [],
   "source": [
    "#created variable name eda\n",
    "eda =result"
   ]
  },
  {
   "cell_type": "markdown",
   "metadata": {},
   "source": [
    "# Anova test\n",
    "Test whether there is a statistically significant difference in the average age based on their injury classification\n",
    "- H0: The average age between different injury classes are all the same\n",
    "- HA: The average age between different injury classes are not the same"
   ]
  },
  {
   "cell_type": "code",
   "execution_count": null,
   "metadata": {},
   "outputs": [],
   "source": [
    "import statsmodels.api as sm\n",
    "from statsmodels.formula.api import ols\n",
    "formula = 'AGE ~ C(INJURY_CLASSIFICATION)'\n",
    "lm = ols(formula, eda).fit()\n",
    "table = sm.stats.anova_lm(lm, typ=2)\n",
    "print(table)"
   ]
  },
  {
   "cell_type": "code",
   "execution_count": null,
   "metadata": {},
   "outputs": [],
   "source": [
    "#Plotting violin chart\n",
    "violin, ax = plt.subplots(figsize=(10,8))\n",
    "sns.violinplot(y=result['AGE'], x=result['INJURY_CLASSIFICATION'], data=result)\n",
    "ax.set(title='Is there a significant difference in the average age based on injury classification?')\n",
    "plt.xticks(rotation=45)\n",
    "violin.savefig('violin.png', bbox_inches='tight');\n"
   ]
  },
  {
   "cell_type": "code",
   "execution_count": null,
   "metadata": {},
   "outputs": [],
   "source": [
    "#creating a table to compare distribution of age and the injury class\n",
    "no_indication = eda[eda['INJURY_CLASSIFICATION']=='NO INDICATION OF INJURY']\n",
    "non_incapacitating = eda[eda['INJURY_CLASSIFICATION']=='NONINCAPACITATING INJURY']\n",
    "reported = eda[eda['INJURY_CLASSIFICATION']=='REPORTED, NOT EVIDENT']\n",
    "incapacitating = eda[eda['INJURY_CLASSIFICATION']=='INCAPACITATING INJURY']\n",
    "fatal = eda[eda['INJURY_CLASSIFICATION']=='FATAL']\n",
    "injury_bac = pd.DataFrame(columns=['NO INDICATION OF INJURY','NONINCAPACITATING INJURY','REPORTED, NOT EVIDENT','INCAPACITATING INJURY','FATAL'])\n",
    "injury_bac['NO INDICATION OF INJURY']=no_indication.groupby('AGE')['AGE'].count()\n",
    "injury_bac['NONINCAPACITATING INJURY']=non_incapacitating.groupby('AGE')['AGE'].count()\n",
    "injury_bac['REPORTED, NOT EVIDENT']=reported.groupby('AGE')['AGE'].count()\n",
    "injury_bac['INCAPACITATING INJURY']=incapacitating.groupby('AGE')['AGE'].count()\n",
    "injury_bac['FATAL']=fatal.groupby('AGE')['AGE'].count()\n",
    "injury_bac.fillna(0,inplace=True)\n",
    "injury_bac"
   ]
  },
  {
   "cell_type": "code",
   "execution_count": null,
   "metadata": {},
   "outputs": [],
   "source": [
    "injury_bac.reset_index(inplace=True)"
   ]
  },
  {
   "cell_type": "code",
   "execution_count": null,
   "metadata": {},
   "outputs": [],
   "source": [
    "#distribution of age and injury that is incapacitating  \n",
    "plt.scatter(injury_bac['AGE'], injury_bac['INCAPACITATING INJURY'])\n",
    "plt.show();"
   ]
  },
  {
   "cell_type": "code",
   "execution_count": null,
   "metadata": {},
   "outputs": [],
   "source": [
    "#distribution of age and injury that is fatal  \n",
    "plt.scatter(injury_bac['AGE'], injury_bac['FATAL'])\n",
    "plt.show();"
   ]
  },
  {
   "cell_type": "markdown",
   "metadata": {},
   "source": [
    "People between their 20's to 40 are most likely to get an incapitating injury or fatal."
   ]
  },
  {
   "cell_type": "markdown",
   "metadata": {},
   "source": [
    "# Chi Squared"
   ]
  },
  {
   "cell_type": "markdown",
   "metadata": {},
   "source": [
    "Is the type of injury independent of the crash type?\n",
    "- H0: injury is independent \n",
    "- HA: injury is not independent"
   ]
  },
  {
   "cell_type": "code",
   "execution_count": null,
   "metadata": {},
   "outputs": [],
   "source": [
    "#creating a table to compare distribution of crash type and the injury class\n",
    "no_indication = eda[eda['INJURY_CLASSIFICATION']=='NO INDICATION OF INJURY']\n",
    "non_incapacitating = eda[eda['INJURY_CLASSIFICATION']=='NONINCAPACITATING INJURY']\n",
    "reported = eda[eda['INJURY_CLASSIFICATION']=='REPORTED, NOT EVIDENT']\n",
    "incapacitating = eda[eda['INJURY_CLASSIFICATION']=='INCAPACITATING INJURY']\n",
    "fatal = eda[eda['INJURY_CLASSIFICATION']=='FATAL']\n",
    "injury_bac = pd.DataFrame(columns=['NO INDICATION OF INJURY','NONINCAPACITATING INJURY','REPORTED, NOT EVIDENT','INCAPACITATING INJURY','FATAL'])\n",
    "injury_bac['NO INDICATION OF INJURY']=no_indication.groupby('FIRST_CRASH_TYPE')['FIRST_CRASH_TYPE'].count()\n",
    "injury_bac['NONINCAPACITATING INJURY']=non_incapacitating.groupby('FIRST_CRASH_TYPE')['FIRST_CRASH_TYPE'].count()\n",
    "injury_bac['REPORTED, NOT EVIDENT']=reported.groupby('FIRST_CRASH_TYPE')['FIRST_CRASH_TYPE'].count()\n",
    "injury_bac['INCAPACITATING INJURY']=incapacitating.groupby('FIRST_CRASH_TYPE')['FIRST_CRASH_TYPE'].count()\n",
    "injury_bac['FATAL']=fatal.groupby('FIRST_CRASH_TYPE')['FIRST_CRASH_TYPE'].count()\n",
    "injury_bac.fillna(0,inplace=True)\n",
    "injury_bac"
   ]
  },
  {
   "cell_type": "code",
   "execution_count": null,
   "metadata": {},
   "outputs": [],
   "source": [
    "from scipy import stats\n",
    "from scipy.stats import chi2_contingency\n",
    "stat,p,dof,expected = stats.chi2_contingency(injury_bac)\n",
    "prob=.95\n",
    "critical = stats.chi2.ppf(prob,dof)\n",
    "critical,stat"
   ]
  },
  {
   "cell_type": "markdown",
   "metadata": {},
   "source": [
    "We reject the null. We further explored and the most leathel car accidents are ones that you run into a fixed object"
   ]
  },
  {
   "cell_type": "markdown",
   "metadata": {},
   "source": [
    "## Feature engineering"
   ]
  },
  {
   "cell_type": "markdown",
   "metadata": {},
   "source": [
    "Rating primary cause of the crash and creating a risk percentage"
   ]
  },
  {
   "cell_type": "code",
   "execution_count": null,
   "metadata": {},
   "outputs": [],
   "source": [
    "result['prim']=result['PRIM_CONTRIBUTORY_CAUSE'].map({'UNABLE TO DETERMINE': 3,'FOLLOWING TOO CLOSELY': 3,'FAILING TO YIELD RIGHT-OF-WAY': 4,\n",
    "'IMPROPER BACKING': 1.5,\n",
    "'FAILING TO REDUCE SPEED TO AVOID CRASH':3.5 ,\n",
    "'IMPROPER OVERTAKING/PASSING': 3,\n",
    "'WEATHER': 3,\n",
    "'NOT APPLICABLE': 3  ,\n",
    "'DISREGARDING STOP SIGN': 2 ,\n",
    "'DISTRACTION - FROM INSIDE VEHICLE': 2,\n",
    "'PHYSICAL CONDITION OF DRIVER': 5,\n",
    "'IMPROPER LANE USAGE': 3,\n",
    "'VISION OBSCURED (SIGNS, TREE LIMBS, BUILDINGS, ETC.)': 2,\n",
    "'EXCEEDING SAFE SPEED FOR CONDITIONS': 3.5,\n",
    "'IMPROPER TURNING/NO SIGNAL': 3,\n",
    "'EQUIPMENT - VEHICLE CONDITION': 2.5,\n",
    "'DRIVING SKILLS/KNOWLEDGE/EXPERIENCE': 2.5,\n",
    "'DRIVING ON WRONG SIDE/WRONG WAY': 4,\n",
    "'DISREGARDING TRAFFIC SIGNALS': 4.5,\n",
    "'EXCEEDING AUTHORIZED SPEED LIMIT': 4,\n",
    "'DISREGARDING ROAD MARKINGS': 1,\n",
    "'ROAD ENGINEERING/SURFACE/MARKING DEFECTS': 2.5,\n",
    "'EVASIVE ACTION DUE TO ANIMAL, OBJECT, NONMOTORIST': 1,\n",
    "'OPERATING VEHICLE IN ERRATIC, RECKLESS, CARELESS, NEGLIGENT OR AGGRESSIVE MANNER': 4,\n",
    "'TEXTING': 2,\n",
    "'DISTRACTION - FROM OUTSIDE VEHICLE': 2,\n",
    "'UNDER THE INFLUENCE OF ALCOHOL/DRUGS (USE WHEN ARREST IS EFFECTED)': 4.5,\n",
    "'ANIMAL': 1,\n",
    "'ROAD CONSTRUCTION/MAINTENANCE': 2,\n",
    "'CELL PHONE USE OTHER THAN TEXTING': 1,\n",
    "'DISREGARDING OTHER TRAFFIC SIGNS': 1.5,\n",
    "'HAD BEEN DRINKING (USE WHEN ARREST IS NOT MADE)': 1,\n",
    "'TURNING RIGHT ON RED': 2,\n",
    "'DISTRACTION - OTHER ELECTRONIC DEVICE (NAVIGATION DEVICE, DVD PLAYER, ETC.)': 1,\n",
    "'PASSING STOPPED SCHOOL BUS':1 ,\n",
    "'DISREGARDING YIELD SIGN': 1,\n",
    "'MOTORCYCLE ADVANCING LEGALLY ON RED LIGHT': .5,\n",
    "'BICYCLE ADVANCING LEGALLY ON RED LIGHT': .5,\n",
    "'RELATED TO BUS STOP': 1,\n",
    "'OBSTRUCTED CROSSWALKS': 1})"
   ]
  },
  {
   "cell_type": "code",
   "execution_count": null,
   "metadata": {},
   "outputs": [],
   "source": [
    "result['aggregate_rating'] = result['prim'].map(lambda x: x*2)\n",
    "result['prim_rating'] = result['aggregate_rating'].map(lambda x: x/2)\n",
    "result['risk_rating']= result['aggregate_rating'].map(lambda x: x/10)\n",
    "result.drop(['aggregate_rating','prim_rating'],axis=1,inplace=True)"
   ]
  },
  {
   "cell_type": "markdown",
   "metadata": {},
   "source": [
    "## Reassigning categorical with numbers"
   ]
  },
  {
   "cell_type": "markdown",
   "metadata": {},
   "source": [
    "## INJURY_CLASSIFICATION\n",
    "- NO INDICATION OF INJURY:0\n",
    "- NONINCAPACITATING INJURY:2\n",
    "- REPORTED, NOT EVIDENT:1\n",
    "- INCAPACITATING INJURY:3\n",
    "- FATAL:4\n",
    "\n",
    "- 0 : No injury \n",
    "- 1 : Minor injury\n",
    "- 2 : Major injury\n",
    "\n"
   ]
  },
  {
   "cell_type": "markdown",
   "metadata": {},
   "source": [
    "Seperating injury classification into no, minor, and major injury"
   ]
  },
  {
   "cell_type": "code",
   "execution_count": null,
   "metadata": {},
   "outputs": [],
   "source": [
    "result['INJURY_CLASSIFICATION']=result['INJURY_CLASSIFICATION'].map({'NO INDICATION OF INJURY':0,\n",
    " 'NONINCAPACITATING INJURY':1,\n",
    " 'REPORTED, NOT EVIDENT':1,\n",
    " 'INCAPACITATING INJURY':2,\n",
    " 'FATAL':2})"
   ]
  },
  {
   "cell_type": "markdown",
   "metadata": {},
   "source": [
    "## Dummy Variables"
   ]
  },
  {
   "cell_type": "code",
   "execution_count": null,
   "metadata": {},
   "outputs": [],
   "source": [
    "dummy_columns = ['PERSON_TYPE','SEX','SAFETY_EQUIPMENT','AIRBAG_DEPLOYED','EJECTION','DRIVER_ACTION','DRIVER_VISION','PHYSICAL_CONDITION','BAC_RESULT','TRAFFIC_CONTROL_DEVICE','DEVICE_CONDITION',\n",
    " 'WEATHER_CONDITION',\n",
    " 'LIGHTING_CONDITION',\n",
    " 'FIRST_CRASH_TYPE',\n",
    " 'TRAFFICWAY_TYPE','ROADWAY_SURFACE_COND','ROAD_DEFECT',\n",
    " 'CRASH_TYPE',\n",
    " 'DAMAGE',\n",
    " 'PRIM_CONTRIBUTORY_CAUSE',\n",
    " 'SEC_CONTRIBUTORY_CAUSE']\n",
    "dummy = pd.get_dummies(result, columns=['PERSON_TYPE','SEX','SAFETY_EQUIPMENT','AIRBAG_DEPLOYED','EJECTION','DRIVER_ACTION','DRIVER_VISION','PHYSICAL_CONDITION','BAC_RESULT','TRAFFIC_CONTROL_DEVICE','DEVICE_CONDITION',\n",
    " 'WEATHER_CONDITION',\n",
    " 'LIGHTING_CONDITION',\n",
    " 'FIRST_CRASH_TYPE',\n",
    " 'TRAFFICWAY_TYPE','ROADWAY_SURFACE_COND','ROAD_DEFECT',\n",
    " 'CRASH_TYPE',\n",
    " 'DAMAGE',\n",
    " 'PRIM_CONTRIBUTORY_CAUSE',\n",
    " 'SEC_CONTRIBUTORY_CAUSE'],drop_first=True)"
   ]
  },
  {
   "cell_type": "markdown",
   "metadata": {},
   "source": [
    "## Feature importance"
   ]
  },
  {
   "cell_type": "code",
   "execution_count": null,
   "metadata": {},
   "outputs": [],
   "source": [
    "X = dummy.drop(['INJURY_CLASSIFICATION'],axis=1)\n",
    "y=dummy['INJURY_CLASSIFICATION']\n",
    "X_train, X_test, y_train, y_test = train_test_split(X, y, test_size=0.2, random_state=23 )\n",
    "rfc1 = RandomForestClassifier(random_state=1, class_weight='balanced',n_jobs=-1,verbose=True)\n",
    "rfc1.fit(X_train,y_train)\n",
    "y_pred_test_rfc1 = rfc1.predict(X_test)"
   ]
  },
  {
   "cell_type": "code",
   "execution_count": null,
   "metadata": {},
   "outputs": [],
   "source": [
    "def plot_feature_importances(model):\n",
    "    n_features = X_train.shape[1]\n",
    "    plt.figure(figsize=(8,8))\n",
    "    plt.barh(range(n_features), model.feature_importances_, align='center') \n",
    "    plt.yticks(np.arange(n_features), X_train.columns.values) \n",
    "    plt.xlabel('Feature importance')\n",
    "    plt.ylabel('Feature')\n",
    "    \n",
    "\n",
    "features, ax = plt.subplots(figsize=(10,8))\n",
    "sns.barplot( y=X_train.columns.values[-25: ], x=np.sort(rfc1.feature_importances_)[-25:], orient='h')\n",
    "ax.set(title='Feature importances to model')\n",
    "features.savefig('features.png', bbox_inches='tight');\n"
   ]
  },
  {
   "cell_type": "code",
   "execution_count": null,
   "metadata": {},
   "outputs": [],
   "source": []
  },
  {
   "cell_type": "code",
   "execution_count": null,
   "metadata": {},
   "outputs": [],
   "source": []
  },
  {
   "cell_type": "code",
   "execution_count": null,
   "metadata": {},
   "outputs": [],
   "source": []
  },
  {
   "cell_type": "code",
   "execution_count": null,
   "metadata": {},
   "outputs": [],
   "source": []
  },
  {
   "cell_type": "code",
   "execution_count": null,
   "metadata": {},
   "outputs": [],
   "source": []
  },
  {
   "cell_type": "code",
   "execution_count": null,
   "metadata": {},
   "outputs": [],
   "source": []
  },
  {
   "cell_type": "code",
   "execution_count": null,
   "metadata": {},
   "outputs": [],
   "source": []
  },
  {
   "cell_type": "code",
   "execution_count": null,
   "metadata": {},
   "outputs": [],
   "source": []
  },
  {
   "cell_type": "code",
   "execution_count": null,
   "metadata": {},
   "outputs": [],
   "source": []
  },
  {
   "cell_type": "code",
   "execution_count": null,
   "metadata": {},
   "outputs": [],
   "source": []
  },
  {
   "cell_type": "code",
   "execution_count": null,
   "metadata": {},
   "outputs": [],
   "source": []
  },
  {
   "cell_type": "code",
   "execution_count": null,
   "metadata": {},
   "outputs": [],
   "source": []
  },
  {
   "cell_type": "code",
   "execution_count": null,
   "metadata": {},
   "outputs": [],
   "source": []
  },
  {
   "cell_type": "code",
   "execution_count": null,
   "metadata": {},
   "outputs": [],
   "source": []
  },
  {
   "cell_type": "code",
   "execution_count": null,
   "metadata": {},
   "outputs": [],
   "source": []
  },
  {
   "cell_type": "code",
   "execution_count": null,
   "metadata": {},
   "outputs": [],
   "source": []
  },
  {
   "cell_type": "code",
   "execution_count": null,
   "metadata": {},
   "outputs": [],
   "source": []
  },
  {
   "cell_type": "code",
   "execution_count": null,
   "metadata": {},
   "outputs": [],
   "source": []
  },
  {
   "cell_type": "code",
   "execution_count": null,
   "metadata": {},
   "outputs": [],
   "source": []
  },
  {
   "cell_type": "code",
   "execution_count": null,
   "metadata": {},
   "outputs": [],
   "source": []
  },
  {
   "cell_type": "code",
   "execution_count": null,
   "metadata": {},
   "outputs": [],
   "source": []
  },
  {
   "cell_type": "code",
   "execution_count": null,
   "metadata": {},
   "outputs": [],
   "source": []
  },
  {
   "cell_type": "code",
   "execution_count": null,
   "metadata": {},
   "outputs": [],
   "source": []
  },
  {
   "cell_type": "code",
   "execution_count": null,
   "metadata": {},
   "outputs": [],
   "source": []
  },
  {
   "cell_type": "code",
   "execution_count": null,
   "metadata": {},
   "outputs": [],
   "source": []
  },
  {
   "cell_type": "code",
   "execution_count": null,
   "metadata": {},
   "outputs": [],
   "source": []
  },
  {
   "cell_type": "code",
   "execution_count": null,
   "metadata": {},
   "outputs": [],
   "source": []
  },
  {
   "cell_type": "code",
   "execution_count": null,
   "metadata": {},
   "outputs": [],
   "source": []
  },
  {
   "cell_type": "code",
   "execution_count": null,
   "metadata": {},
   "outputs": [],
   "source": []
  },
  {
   "cell_type": "code",
   "execution_count": null,
   "metadata": {},
   "outputs": [],
   "source": []
  },
  {
   "cell_type": "code",
   "execution_count": null,
   "metadata": {},
   "outputs": [],
   "source": []
  },
  {
   "cell_type": "code",
   "execution_count": null,
   "metadata": {},
   "outputs": [],
   "source": []
  },
  {
   "cell_type": "code",
   "execution_count": null,
   "metadata": {},
   "outputs": [],
   "source": []
  },
  {
   "cell_type": "code",
   "execution_count": null,
   "metadata": {},
   "outputs": [],
   "source": []
  },
  {
   "cell_type": "code",
   "execution_count": null,
   "metadata": {},
   "outputs": [],
   "source": []
  },
  {
   "cell_type": "code",
   "execution_count": null,
   "metadata": {},
   "outputs": [],
   "source": []
  },
  {
   "cell_type": "code",
   "execution_count": null,
   "metadata": {},
   "outputs": [],
   "source": []
  },
  {
   "cell_type": "code",
   "execution_count": null,
   "metadata": {},
   "outputs": [],
   "source": []
  },
  {
   "cell_type": "code",
   "execution_count": null,
   "metadata": {},
   "outputs": [],
   "source": []
  },
  {
   "cell_type": "code",
   "execution_count": null,
   "metadata": {},
   "outputs": [],
   "source": []
  },
  {
   "cell_type": "code",
   "execution_count": null,
   "metadata": {},
   "outputs": [],
   "source": []
  },
  {
   "cell_type": "code",
   "execution_count": null,
   "metadata": {},
   "outputs": [],
   "source": []
  },
  {
   "cell_type": "code",
   "execution_count": null,
   "metadata": {},
   "outputs": [],
   "source": []
  },
  {
   "cell_type": "code",
   "execution_count": null,
   "metadata": {},
   "outputs": [],
   "source": []
  },
  {
   "cell_type": "code",
   "execution_count": null,
   "metadata": {},
   "outputs": [],
   "source": []
  },
  {
   "cell_type": "code",
   "execution_count": null,
   "metadata": {},
   "outputs": [],
   "source": []
  },
  {
   "cell_type": "code",
   "execution_count": null,
   "metadata": {},
   "outputs": [],
   "source": []
  },
  {
   "cell_type": "code",
   "execution_count": null,
   "metadata": {},
   "outputs": [],
   "source": []
  },
  {
   "cell_type": "code",
   "execution_count": null,
   "metadata": {},
   "outputs": [],
   "source": []
  },
  {
   "cell_type": "code",
   "execution_count": null,
   "metadata": {},
   "outputs": [],
   "source": []
  },
  {
   "cell_type": "code",
   "execution_count": null,
   "metadata": {},
   "outputs": [],
   "source": []
  },
  {
   "cell_type": "code",
   "execution_count": null,
   "metadata": {},
   "outputs": [],
   "source": []
  },
  {
   "cell_type": "code",
   "execution_count": null,
   "metadata": {},
   "outputs": [],
   "source": []
  },
  {
   "cell_type": "code",
   "execution_count": null,
   "metadata": {},
   "outputs": [],
   "source": []
  },
  {
   "cell_type": "code",
   "execution_count": null,
   "metadata": {},
   "outputs": [],
   "source": []
  },
  {
   "cell_type": "code",
   "execution_count": null,
   "metadata": {},
   "outputs": [],
   "source": []
  }
 ],
 "metadata": {
  "kernelspec": {
   "display_name": "Python 3",
   "language": "python",
   "name": "python3"
  },
  "language_info": {
   "codemirror_mode": {
    "name": "ipython",
    "version": 3
   },
   "file_extension": ".py",
   "mimetype": "text/x-python",
   "name": "python",
   "nbconvert_exporter": "python",
   "pygments_lexer": "ipython3",
   "version": "3.6.9"
  }
 },
 "nbformat": 4,
 "nbformat_minor": 2
}
